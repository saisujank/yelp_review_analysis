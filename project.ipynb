{
 "cells": [
  {
   "cell_type": "code",
   "execution_count": 1,
   "metadata": {},
   "outputs": [
    {
     "name": "stdout",
     "output_type": "stream",
     "text": [
      "Requirement already up-to-date: pandas in /opt/conda/lib/python3.6/site-packages (0.24.2)\n",
      "Requirement not upgraded as not directly required: numpy>=1.12.0 in /opt/conda/lib/python3.6/site-packages (from pandas) (1.16.3)\n",
      "Requirement not upgraded as not directly required: pytz>=2011k in /opt/conda/lib/python3.6/site-packages (from pandas) (2019.1)\n",
      "Requirement not upgraded as not directly required: python-dateutil>=2.5.0 in /opt/conda/lib/python3.6/site-packages (from pandas) (2.8.0)\n",
      "Requirement not upgraded as not directly required: six>=1.5 in /opt/conda/lib/python3.6/site-packages (from python-dateutil>=2.5.0->pandas) (1.11.0)\n",
      "\u001b[31mpyspark 2.3.2 requires py4j==0.10.7, which is not installed.\u001b[0m\n",
      "\u001b[33mYou are using pip version 10.0.1, however version 19.1 is available.\n",
      "You should consider upgrading via the 'pip install --upgrade pip' command.\u001b[0m\n"
     ]
    }
   ],
   "source": [
    "!pip install --upgrade pandas"
   ]
  },
  {
   "cell_type": "markdown",
   "metadata": {},
   "source": [
    "\n",
    "\n",
    "\n"
   ]
  },
  {
   "cell_type": "code",
   "execution_count": 2,
   "metadata": {
    "scrolled": true
   },
   "outputs": [],
   "source": [
    "### Reading JSON files\n",
    "\n",
    "# Declare paths for import\n",
    "path_r = 'review.json'\n",
    "path_u = 'user.json'\n",
    "path_b = 'business.json'\n",
    "\n",
    "# Import JSON files into Spark DataFrames\n",
    "reviews_raw = spark.read.json(path_r)\n",
    "user = spark.read.json(path_u)\n",
    "business = spark.read.json(path_b)"
   ]
  },
  {
   "cell_type": "code",
   "execution_count": 3,
   "metadata": {},
   "outputs": [
    {
     "name": "stdout",
     "output_type": "stream",
     "text": [
      "+--------------------+----+-------------------+-----+--------------------+-----+--------------------+------+--------------------+\n",
      "|         business_id|cool|               date|funny|           review_id|stars|                text|useful|             user_id|\n",
      "+--------------------+----+-------------------+-----+--------------------+-----+--------------------+------+--------------------+\n",
      "|ujmEBvifdJM6h6RLv...|   0|2013-05-07 04:34:36|    1|Q1sbwvVQXV2734tPg...|  1.0|Total bill for th...|     6|hG7b0MtEbXx5QzbzE...|\n",
      "|NZnhc2sEQy3RmzKTZ...|   0|2017-01-14 21:30:33|    0|GJXCdrto3ASJOqKeV...|  5.0|I *adore* Travis ...|     0|yXQM5uF2jS6es16SJ...|\n",
      "|WTqjgwHlXbSFevF32...|   0|2016-11-09 20:09:03|    0|2TzJjDVDEuAW6MR5V...|  5.0|I have to say tha...|     3|n6-Gk65cPZL6Uz8qR...|\n",
      "|ikCg8xy5JIg_NGPx-...|   0|2018-01-09 20:56:38|    0|yi0R0Ugj_xUx_Nek0...|  5.0|Went in for a lun...|     0|dacAIZ6fTM6mqwW5u...|\n",
      "|b1b1eb3uo-w561D0Z...|   0|2018-01-30 23:07:38|    0|11a8sVPMUFtaC7_AB...|  1.0|Today was my seco...|     7|ssoyf2_x0EQMed6fg...|\n",
      "+--------------------+----+-------------------+-----+--------------------+-----+--------------------+------+--------------------+\n",
      "only showing top 5 rows\n",
      "\n",
      "Number of reviews: 6685900\n"
     ]
    }
   ],
   "source": [
    "# Take a look at the first 5 rows\n",
    "reviews_raw.show(5)\n",
    "\n",
    "# How many reviews in the dataset?\n",
    "# Count rows and print\n",
    "print('Number of reviews:', reviews_raw.count())"
   ]
  },
  {
   "cell_type": "code",
   "execution_count": 4,
   "metadata": {},
   "outputs": [
    {
     "name": "stdout",
     "output_type": "stream",
     "text": [
      "root\n",
      " |-- business_id: string (nullable = true)\n",
      " |-- cool: long (nullable = true)\n",
      " |-- date: string (nullable = true)\n",
      " |-- funny: long (nullable = true)\n",
      " |-- review_id: string (nullable = true)\n",
      " |-- stars: double (nullable = true)\n",
      " |-- text: string (nullable = true)\n",
      " |-- useful: long (nullable = true)\n",
      " |-- user_id: string (nullable = true)\n",
      "\n"
     ]
    }
   ],
   "source": [
    "# Visualize the inferred schema of our DataFrame\n",
    "reviews_raw.printSchema()"
   ]
  },
  {
   "cell_type": "code",
   "execution_count": 5,
   "metadata": {},
   "outputs": [
    {
     "name": "stdout",
     "output_type": "stream",
     "text": [
      "+-------------------+--------------------+-----+--------------------+--------------------+--------------------+------+\n",
      "|               date|           review_id|stars|                text|             user_id|         business_id|useful|\n",
      "+-------------------+--------------------+-----+--------------------+--------------------+--------------------+------+\n",
      "|2013-05-07 04:34:36|Q1sbwvVQXV2734tPg...|  1.0|Total bill for th...|hG7b0MtEbXx5QzbzE...|ujmEBvifdJM6h6RLv...|     6|\n",
      "|2017-01-14 21:30:33|GJXCdrto3ASJOqKeV...|  5.0|I *adore* Travis ...|yXQM5uF2jS6es16SJ...|NZnhc2sEQy3RmzKTZ...|     0|\n",
      "|2016-11-09 20:09:03|2TzJjDVDEuAW6MR5V...|  5.0|I have to say tha...|n6-Gk65cPZL6Uz8qR...|WTqjgwHlXbSFevF32...|     3|\n",
      "|2018-01-09 20:56:38|yi0R0Ugj_xUx_Nek0...|  5.0|Went in for a lun...|dacAIZ6fTM6mqwW5u...|ikCg8xy5JIg_NGPx-...|     0|\n",
      "|2018-01-30 23:07:38|11a8sVPMUFtaC7_AB...|  1.0|Today was my seco...|ssoyf2_x0EQMed6fg...|b1b1eb3uo-w561D0Z...|     7|\n",
      "+-------------------+--------------------+-----+--------------------+--------------------+--------------------+------+\n",
      "only showing top 5 rows\n",
      "\n"
     ]
    }
   ],
   "source": [
    "# Create temporary table for SQL querying\n",
    "reviews_raw.createOrReplaceTempView(\"reviews\")\n",
    "\n",
    "# Reduce DataFrame to include only relevant variables\n",
    "reviews = spark.sql('SELECT date, review_id, stars, text, user_id, business_id, useful FROM reviews')\n",
    "\n",
    "# Update temporary table for SQL querying\n",
    "reviews.createOrReplaceTempView(\"reviews\")\n",
    "\n",
    "reviews.show(5) # Look at first 5 entries"
   ]
  },
  {
   "cell_type": "code",
   "execution_count": 6,
   "metadata": {
    "scrolled": true
   },
   "outputs": [
    {
     "name": "stdout",
     "output_type": "stream",
     "text": [
      "+------------+\n",
      "|review_count|\n",
      "+------------+\n",
      "|     6685900|\n",
      "+------------+\n",
      "\n"
     ]
    }
   ],
   "source": [
    "# Number of reviews (count of rows)\n",
    "spark.sql('SELECT COUNT(*) AS review_count FROM reviews').show()"
   ]
  },
  {
   "cell_type": "code",
   "execution_count": 7,
   "metadata": {
    "scrolled": true
   },
   "outputs": [
    {
     "name": "stdout",
     "output_type": "stream",
     "text": [
      "+--------------+\n",
      "|business_count|\n",
      "+--------------+\n",
      "|        192606|\n",
      "+--------------+\n",
      "\n",
      "+----------+\n",
      "|user_count|\n",
      "+----------+\n",
      "|   1637138|\n",
      "+----------+\n",
      "\n"
     ]
    }
   ],
   "source": [
    "# No. of unique businesses\n",
    "spark.sql('\\\n",
    "    SELECT COUNT(DISTINCT business_id) AS business_count \\\n",
    "    FROM reviews').show()\n",
    "\n",
    "# No. of unique reviewers\n",
    "spark.sql('\\\n",
    "    SELECT COUNT(DISTINCT user_id) AS user_count \\\n",
    "    FROM reviews').show()"
   ]
  },
  {
   "cell_type": "code",
   "execution_count": 8,
   "metadata": {},
   "outputs": [
    {
     "name": "stdout",
     "output_type": "stream",
     "text": [
      "+-------+------------------+------------------+\n",
      "|summary|             stars|            useful|\n",
      "+-------+------------------+------------------+\n",
      "|  count|           6685900|           6685900|\n",
      "|   mean|3.7161993149762935|1.3541339236303265|\n",
      "| stddev|1.4636427449898137| 3.700192097228969|\n",
      "|    min|               1.0|                -1|\n",
      "|    max|               5.0|              1241|\n",
      "+-------+------------------+------------------+\n",
      "\n"
     ]
    }
   ],
   "source": [
    "# Descriptive statistics using DataFrame API\n",
    "reviews.describe('stars', 'useful').show()"
   ]
  },
  {
   "cell_type": "code",
   "execution_count": 9,
   "metadata": {},
   "outputs": [
    {
     "name": "stdout",
     "output_type": "stream",
     "text": [
      "+-------------------+----+-----+---+----+\n",
      "|               date|year|month|day|hour|\n",
      "+-------------------+----+-----+---+----+\n",
      "|2013-05-07 04:34:36|2013|    5|  7|   4|\n",
      "|2017-01-14 21:30:33|2017|    1| 14|  21|\n",
      "|2016-11-09 20:09:03|2016|   11|  9|  20|\n",
      "|2018-01-09 20:56:38|2018|    1|  9|  20|\n",
      "|2018-01-30 23:07:38|2018|    1| 30|  23|\n",
      "|2013-01-20 13:25:59|2013|    1| 20|  13|\n",
      "|2016-05-07 01:21:02|2016|    5|  7|   1|\n",
      "|2010-10-05 19:12:35|2010|   10|  5|  19|\n",
      "|2015-01-18 14:04:18|2015|    1| 18|  14|\n",
      "|2012-02-29 21:52:43|2012|    2| 29|  21|\n",
      "+-------------------+----+-----+---+----+\n",
      "only showing top 10 rows\n",
      "\n"
     ]
    }
   ],
   "source": [
    "from pyspark.sql.types import * \n",
    "\n",
    "# Register user-defined functions (UDFs) to be used in SQL queries\n",
    "spark.udf.register('udf_year', lambda x: int(x[:4]), IntegerType())\n",
    "spark.udf.register('udf_month', lambda x: int(x[5:7]), IntegerType())\n",
    "spark.udf.register('udf_day', lambda x: int(x[8:10]), IntegerType())\n",
    "spark.udf.register('udf_hour', lambda x: int(x[11:13]), IntegerType())\n",
    "\n",
    "# Test UDFs on first 10 rows\n",
    "spark.sql('\\\n",
    "    SELECT date, udf_year(date) AS year, udf_month(date) AS month, udf_day(date) AS day, udf_hour(date) AS hour \\\n",
    "    FROM reviews').show(10)"
   ]
  },
  {
   "cell_type": "code",
   "execution_count": 18,
   "metadata": {},
   "outputs": [
    {
     "data": {
      "text/html": [
       "<div>\n",
       "<style scoped>\n",
       "    .dataframe tbody tr th:only-of-type {\n",
       "        vertical-align: middle;\n",
       "    }\n",
       "\n",
       "    .dataframe tbody tr th {\n",
       "        vertical-align: top;\n",
       "    }\n",
       "\n",
       "    .dataframe thead th {\n",
       "        text-align: right;\n",
       "    }\n",
       "</style>\n",
       "<table border=\"1\" class=\"dataframe\">\n",
       "  <thead>\n",
       "    <tr style=\"text-align: right;\">\n",
       "      <th></th>\n",
       "      <th>year</th>\n",
       "      <th>review_count</th>\n",
       "    </tr>\n",
       "  </thead>\n",
       "  <tbody>\n",
       "    <tr>\n",
       "      <th>0</th>\n",
       "      <td>2007</td>\n",
       "      <td>21389</td>\n",
       "    </tr>\n",
       "    <tr>\n",
       "      <th>1</th>\n",
       "      <td>2018</td>\n",
       "      <td>1177662</td>\n",
       "    </tr>\n",
       "    <tr>\n",
       "      <th>2</th>\n",
       "      <td>2015</td>\n",
       "      <td>952400</td>\n",
       "    </tr>\n",
       "    <tr>\n",
       "      <th>3</th>\n",
       "      <td>2006</td>\n",
       "      <td>5081</td>\n",
       "    </tr>\n",
       "    <tr>\n",
       "      <th>4</th>\n",
       "      <td>2013</td>\n",
       "      <td>491294</td>\n",
       "    </tr>\n",
       "    <tr>\n",
       "      <th>5</th>\n",
       "      <td>2014</td>\n",
       "      <td>704862</td>\n",
       "    </tr>\n",
       "    <tr>\n",
       "      <th>6</th>\n",
       "      <td>2004</td>\n",
       "      <td>13</td>\n",
       "    </tr>\n",
       "    <tr>\n",
       "      <th>7</th>\n",
       "      <td>2012</td>\n",
       "      <td>367090</td>\n",
       "    </tr>\n",
       "    <tr>\n",
       "      <th>8</th>\n",
       "      <td>2009</td>\n",
       "      <td>101173</td>\n",
       "    </tr>\n",
       "    <tr>\n",
       "      <th>9</th>\n",
       "      <td>2016</td>\n",
       "      <td>1098786</td>\n",
       "    </tr>\n",
       "    <tr>\n",
       "      <th>10</th>\n",
       "      <td>2005</td>\n",
       "      <td>876</td>\n",
       "    </tr>\n",
       "    <tr>\n",
       "      <th>11</th>\n",
       "      <td>2010</td>\n",
       "      <td>187387</td>\n",
       "    </tr>\n",
       "    <tr>\n",
       "      <th>12</th>\n",
       "      <td>2011</td>\n",
       "      <td>302867</td>\n",
       "    </tr>\n",
       "    <tr>\n",
       "      <th>13</th>\n",
       "      <td>2008</td>\n",
       "      <td>57347</td>\n",
       "    </tr>\n",
       "    <tr>\n",
       "      <th>14</th>\n",
       "      <td>2017</td>\n",
       "      <td>1217673</td>\n",
       "    </tr>\n",
       "  </tbody>\n",
       "</table>\n",
       "</div>"
      ],
      "text/plain": [
       "    year  review_count\n",
       "0   2007         21389\n",
       "1   2018       1177662\n",
       "2   2015        952400\n",
       "3   2006          5081\n",
       "4   2013        491294\n",
       "5   2014        704862\n",
       "6   2004            13\n",
       "7   2012        367090\n",
       "8   2009        101173\n",
       "9   2016       1098786\n",
       "10  2005           876\n",
       "11  2010        187387\n",
       "12  2011        302867\n",
       "13  2008         57347\n",
       "14  2017       1217673"
      ]
     },
     "execution_count": 18,
     "metadata": {},
     "output_type": "execute_result"
    }
   ],
   "source": [
    "import pandas as pd\n",
    "import matplotlib.pyplot as plt\n",
    "%matplotlib inline\n",
    "\n",
    "# No. of reviews by year\n",
    "reviewsByYear = \\\n",
    "    spark.sql('\\\n",
    "        SELECT udf_year(date) AS year, COUNT(*) AS review_count\\\n",
    "        FROM reviews \\\n",
    "        GROUP BY year')\n",
    "\n",
    "# Convert Spark DataFrame to Pandas DataFrame\n",
    "pdfYear = reviewsByYear.toPandas()\n",
    "pdfYear # Take a look at the DataFrame"
   ]
  },
  {
   "cell_type": "code",
   "execution_count": 19,
   "metadata": {},
   "outputs": [],
   "source": [
    "%matplotlib inline\n",
    "\n",
    "# Set the DF's index to year and sort DF by year\n",
    "pdfYear = pdfYear.set_index('year').sort_values(by = 'year')"
   ]
  },
  {
   "cell_type": "code",
   "execution_count": 22,
   "metadata": {},
   "outputs": [
    {
     "data": {
      "text/plain": [
       "<matplotlib.axes._subplots.AxesSubplot at 0x7f4e8cffafd0>"
      ]
     },
     "execution_count": 22,
     "metadata": {},
     "output_type": "execute_result"
    },
    {
     "data": {
      "image/png": "[encoded data removed]",
      "text/plain": [
       "<Figure size 432x288 with 1 Axes>"
      ]
     },
     "metadata": {
      "needs_background": "light"
     },
     "output_type": "display_data"
    }
   ],
   "source": [
    "# Plot as bar plot\n",
    "pdfYear.plot.bar(title = 'Number of Yelp reviews by year')"
   ]
  },
  {
   "cell_type": "code",
   "execution_count": 23,
   "metadata": {},
   "outputs": [],
   "source": [
    "%matplotlib inline\n",
    " \n",
    "# No. of reviews by month\n",
    "reviewsByMonth = \\\n",
    "    spark.sql('\\\n",
    "        SELECT udf_month(date) AS month, COUNT(*) AS review_count\\\n",
    "        FROM reviews \\\n",
    "        GROUP BY month')\n",
    "\n",
    "# Convert PySpark DataFrame to Pandas DataFrame\n",
    "pdf2 = reviewsByMonth.toPandas()\n",
    "\n",
    "# Set the index and sort by month\n",
    "pdf2 = pdf2.set_index('month').sort_values(by = 'month')"
   ]
  },
  {
   "cell_type": "code",
   "execution_count": 24,
   "metadata": {},
   "outputs": [
    {
     "data": {
      "text/plain": [
       "<matplotlib.axes._subplots.AxesSubplot at 0x7f4e8cea5470>"
      ]
     },
     "execution_count": 24,
     "metadata": {},
     "output_type": "execute_result"
    },
    {
     "data": {
      "image/png": "[encoded data removed]",
      "text/plain": [
       "<Figure size 432x288 with 1 Axes>"
      ]
     },
     "metadata": {
      "needs_background": "light"
     },
     "output_type": "display_data"
    }
   ],
   "source": [
    "# Plot as bar plot\n",
    "pdf2.plot.bar(title = 'Number of Yelp reviews by month (for all years)')"
   ]
  },
  {
   "cell_type": "code",
   "execution_count": 25,
   "metadata": {
    "scrolled": true
   },
   "outputs": [
    {
     "name": "stdout",
     "output_type": "stream",
     "text": [
      "+--------------------+-----+------+\n",
      "|                text|stars|useful|\n",
      "+--------------------+-----+------+\n",
      "|Met a friend for ...|  1.0|     6|\n",
      "|((( LADIES BEWARE...|  1.0|     1|\n",
      "|Hey....i just wan...|  5.0|     0|\n",
      "|I just had a terr...|  1.0|     0|\n",
      "|I hope that every...|  1.0|     5|\n",
      "+--------------------+-----+------+\n",
      "only showing top 5 rows\n",
      "\n"
     ]
    }
   ],
   "source": [
    "# Find all reviews that include the word \"terrible\"\n",
    "reviewsTerrible = \\\n",
    "    spark.sql('\\\n",
    "        SELECT text, stars, useful \\\n",
    "        FROM reviews \\\n",
    "        WHERE text LIKE \"%terrible%\"')\n",
    "\n",
    "reviewsTerrible.show(5)"
   ]
  },
  {
   "cell_type": "code",
   "execution_count": 26,
   "metadata": {},
   "outputs": [
    {
     "name": "stdout",
     "output_type": "stream",
     "text": [
      "root\n",
      " |-- average_stars: double (nullable = true)\n",
      " |-- compliment_cool: long (nullable = true)\n",
      " |-- compliment_cute: long (nullable = true)\n",
      " |-- compliment_funny: long (nullable = true)\n",
      " |-- compliment_hot: long (nullable = true)\n",
      " |-- compliment_list: long (nullable = true)\n",
      " |-- compliment_more: long (nullable = true)\n",
      " |-- compliment_note: long (nullable = true)\n",
      " |-- compliment_photos: long (nullable = true)\n",
      " |-- compliment_plain: long (nullable = true)\n",
      " |-- compliment_profile: long (nullable = true)\n",
      " |-- compliment_writer: long (nullable = true)\n",
      " |-- cool: long (nullable = true)\n",
      " |-- elite: string (nullable = true)\n",
      " |-- fans: long (nullable = true)\n",
      " |-- friends: string (nullable = true)\n",
      " |-- funny: long (nullable = true)\n",
      " |-- name: string (nullable = true)\n",
      " |-- review_count: long (nullable = true)\n",
      " |-- useful: long (nullable = true)\n",
      " |-- user_id: string (nullable = true)\n",
      " |-- yelping_since: string (nullable = true)\n",
      "\n"
     ]
    }
   ],
   "source": [
    "# Create temporary tables for SQL querying\n",
    "user.createOrReplaceTempView(\"user\")\n",
    "business.createOrReplaceTempView(\"business\")\n",
    "\n",
    "# Inferred schema of the User DataFrame\n",
    "user.printSchema()"
   ]
  },
  {
   "cell_type": "code",
   "execution_count": 27,
   "metadata": {
    "scrolled": false
   },
   "outputs": [
    {
     "name": "stdout",
     "output_type": "stream",
     "text": [
      "root\n",
      " |-- address: string (nullable = true)\n",
      " |-- attributes: struct (nullable = true)\n",
      " |    |-- AcceptsInsurance: string (nullable = true)\n",
      " |    |-- AgesAllowed: string (nullable = true)\n",
      " |    |-- Alcohol: string (nullable = true)\n",
      " |    |-- Ambience: string (nullable = true)\n",
      " |    |-- BYOB: string (nullable = true)\n",
      " |    |-- BYOBCorkage: string (nullable = true)\n",
      " |    |-- BestNights: string (nullable = true)\n",
      " |    |-- BikeParking: string (nullable = true)\n",
      " |    |-- BusinessAcceptsBitcoin: string (nullable = true)\n",
      " |    |-- BusinessAcceptsCreditCards: string (nullable = true)\n",
      " |    |-- BusinessParking: string (nullable = true)\n",
      " |    |-- ByAppointmentOnly: string (nullable = true)\n",
      " |    |-- Caters: string (nullable = true)\n",
      " |    |-- CoatCheck: string (nullable = true)\n",
      " |    |-- Corkage: string (nullable = true)\n",
      " |    |-- DietaryRestrictions: string (nullable = true)\n",
      " |    |-- DogsAllowed: string (nullable = true)\n",
      " |    |-- DriveThru: string (nullable = true)\n",
      " |    |-- GoodForDancing: string (nullable = true)\n",
      " |    |-- GoodForKids: string (nullable = true)\n",
      " |    |-- GoodForMeal: string (nullable = true)\n",
      " |    |-- HairSpecializesIn: string (nullable = true)\n",
      " |    |-- HappyHour: string (nullable = true)\n",
      " |    |-- HasTV: string (nullable = true)\n",
      " |    |-- Music: string (nullable = true)\n",
      " |    |-- NoiseLevel: string (nullable = true)\n",
      " |    |-- Open24Hours: string (nullable = true)\n",
      " |    |-- OutdoorSeating: string (nullable = true)\n",
      " |    |-- RestaurantsAttire: string (nullable = true)\n",
      " |    |-- RestaurantsCounterService: string (nullable = true)\n",
      " |    |-- RestaurantsDelivery: string (nullable = true)\n",
      " |    |-- RestaurantsGoodForGroups: string (nullable = true)\n",
      " |    |-- RestaurantsPriceRange2: string (nullable = true)\n",
      " |    |-- RestaurantsReservations: string (nullable = true)\n",
      " |    |-- RestaurantsTableService: string (nullable = true)\n",
      " |    |-- RestaurantsTakeOut: string (nullable = true)\n",
      " |    |-- Smoking: string (nullable = true)\n",
      " |    |-- WheelchairAccessible: string (nullable = true)\n",
      " |    |-- WiFi: string (nullable = true)\n",
      " |-- business_id: string (nullable = true)\n",
      " |-- categories: string (nullable = true)\n",
      " |-- city: string (nullable = true)\n",
      " |-- hours: struct (nullable = true)\n",
      " |    |-- Friday: string (nullable = true)\n",
      " |    |-- Monday: string (nullable = true)\n",
      " |    |-- Saturday: string (nullable = true)\n",
      " |    |-- Sunday: string (nullable = true)\n",
      " |    |-- Thursday: string (nullable = true)\n",
      " |    |-- Tuesday: string (nullable = true)\n",
      " |    |-- Wednesday: string (nullable = true)\n",
      " |-- is_open: long (nullable = true)\n",
      " |-- latitude: double (nullable = true)\n",
      " |-- longitude: double (nullable = true)\n",
      " |-- name: string (nullable = true)\n",
      " |-- postal_code: string (nullable = true)\n",
      " |-- review_count: long (nullable = true)\n",
      " |-- stars: double (nullable = true)\n",
      " |-- state: string (nullable = true)\n",
      "\n"
     ]
    }
   ],
   "source": [
    "# Inferred schema of the Business DataFrame\n",
    "business.printSchema()"
   ]
  },
  {
   "cell_type": "code",
   "execution_count": 29,
   "metadata": {
    "scrolled": true
   },
   "outputs": [
    {
     "name": "stdout",
     "output_type": "stream",
     "text": [
      "+-------------------+-------------+------+-------------------+\n",
      "|               date|         name|useful|      yelping_since|\n",
      "+-------------------+-------------+------+-------------------+\n",
      "|2015-08-18 19:11:04|        Scott|     3|2015-08-18 19:10:59|\n",
      "|2015-08-18 19:22:17|        Scott|     0|2015-08-18 19:10:59|\n",
      "|2014-03-21 17:09:59|         cubs|     0|2009-05-15 19:50:34|\n",
      "|2012-07-06 03:43:34|Fairmount Jil|     1|2007-12-26 17:32:44|\n",
      "|2014-09-19 01:12:10|       Nickie|     1|2009-08-07 13:42:19|\n",
      "+-------------------+-------------+------+-------------------+\n",
      "only showing top 5 rows\n",
      "\n"
     ]
    }
   ],
   "source": [
    "# Usefulness of review vs. Time since joined Yelp\n",
    "usefulTime = \\\n",
    "    spark.sql('\\\n",
    "        SELECT reviews.date, user.name, reviews.useful, user.yelping_since \\\n",
    "        FROM reviews JOIN user \\\n",
    "            ON reviews.user_id = user.user_id')\n",
    "\n",
    "usefulTime.show(5)"
   ]
  },
  {
   "cell_type": "code",
   "execution_count": 30,
   "metadata": {},
   "outputs": [
    {
     "name": "stdout",
     "output_type": "stream",
     "text": [
      "+-------------------+-------------+------+-------------------+----------------+\n",
      "|               date|         name|useful|      yelping_since|yelping_duration|\n",
      "+-------------------+-------------+------+-------------------+----------------+\n",
      "|2015-08-18 19:22:17|        Scott|     0|2015-08-18 19:10:59|          0.0078|\n",
      "|2015-08-18 19:11:04|        Scott|     3|2015-08-18 19:10:59|          1.0E-4|\n",
      "|2014-03-21 17:09:59|         cubs|     0|2009-05-15 19:50:34|       1770.8885|\n",
      "|2012-07-06 03:43:34|Fairmount Jil|     1|2007-12-26 17:32:44|       1653.4242|\n",
      "|2014-09-19 01:12:10|       Nickie|     1|2009-08-07 13:42:19|       1868.4791|\n",
      "+-------------------+-------------+------+-------------------+----------------+\n",
      "only showing top 5 rows\n",
      "\n"
     ]
    }
   ],
   "source": [
    "from pyspark.sql.types import * \n",
    "from pyspark.sql import functions as F\n",
    "\n",
    "# Create function that calculates time difference (in days)\n",
    "daysDiff = ((F.unix_timestamp('date') - F.unix_timestamp('yelping_since'))\n",
    "               / (60*60*24)) # Divide by number of seconds in a day\n",
    "\n",
    "# Adjust function to round results to 4 decimal places\n",
    "daysDiff = F.round(daysDiff, 4)\n",
    "\n",
    "# Add column to our DataFrame\n",
    "usefulTime = usefulTime.withColumn(\"yelping_duration\", daysDiff)\n",
    "\n",
    "usefulTime.show(5)"
   ]
  },
  {
   "cell_type": "code",
   "execution_count": 31,
   "metadata": {},
   "outputs": [
    {
     "data": {
      "text/plain": [
       "<function __main__.<lambda>(x)>"
      ]
     },
     "execution_count": 31,
     "metadata": {},
     "output_type": "execute_result"
    }
   ],
   "source": [
    "# Register UDF to count number of categories\n",
    "spark.udf.register('listLength', lambda x: len(x), IntegerType())"
   ]
  },
  {
   "cell_type": "code",
   "execution_count": 34,
   "metadata": {},
   "outputs": [
    {
     "name": "stdout",
     "output_type": "stream",
     "text": [
      "+--------------+--------------+--------------+\n",
      "|stars_relative|     longitude|num_categories|\n",
      "+--------------+--------------+--------------+\n",
      "|           0.5|  -112.0573695|            37|\n",
      "|           2.0|   -111.936342|            78|\n",
      "|          1.27|    -80.722003|            35|\n",
      "|           1.6|-80.1499910855|            70|\n",
      "|           1.0|    -89.395948|            65|\n",
      "+--------------+--------------+--------------+\n",
      "only showing top 5 rows\n",
      "\n"
     ]
    }
   ],
   "source": [
    "# Stars relative to average vs. # of categories vs. longitude\n",
    "threeJoin = \\\n",
    "    spark.sql('\\\n",
    "        SELECT ROUND(reviews.stars/user.average_stars, 2) AS stars_relative, business.longitude, \\\n",
    "                listLength(business.categories) AS num_categories \\\n",
    "        FROM user \\\n",
    "            JOIN reviews \\\n",
    "                ON user.user_id = reviews.user_id \\\n",
    "            JOIN business \\\n",
    "                ON reviews.business_id = business.business_id')\n",
    "\n",
    "threeJoin.show(5)"
   ]
  },
  {
   "cell_type": "code",
   "execution_count": 33,
   "metadata": {
    "scrolled": true
   },
   "outputs": [
    {
     "name": "stdout",
     "output_type": "stream",
     "text": [
      "+------------------+---------+--------------+--------------+-------------------+\n",
      "|              name|     city|stars_relative|num_categories|               date|\n",
      "+------------------+---------+--------------+--------------+-------------------+\n",
      "|Brooks Photography|San Diego|          0.24|            80|2015-01-29 05:45:49|\n",
      "|Brooks Photography|San Diego|          0.26|            80|2015-01-14 14:52:34|\n",
      "|Brooks Photography|San Diego|          0.29|            80|2015-01-12 02:53:40|\n",
      "|Brooks Photography|San Diego|           1.0|            80|2015-01-10 05:48:14|\n",
      "|Brooks Photography|San Diego|          0.53|            80|2015-01-14 03:25:57|\n",
      "+------------------+---------+--------------+--------------+-------------------+\n",
      "only showing top 5 rows\n",
      "\n"
     ]
    }
   ],
   "source": [
    "# Joining all three Yelp datasets in a lengthy query\n",
    "threeJoinSD = \\\n",
    "    spark.sql(\"\\\n",
    "        SELECT business.name, business.city, ROUND(reviews.stars/user.average_stars, 2) AS stars_relative, \\\n",
    "                listLength(business.categories) AS num_categories, reviews.date \\\n",
    "        FROM user \\\n",
    "            JOIN reviews \\\n",
    "                ON user.user_id = reviews.user_id \\\n",
    "            JOIN business \\\n",
    "                ON reviews.business_id = business.business_id \\\n",
    "        WHERE business.city = 'San Diego' AND reviews.date LIKE '2015-01%'\")\n",
    "\n",
    "threeJoinSD.show(5)"
   ]
  },
  {
   "cell_type": "code",
   "execution_count": 35,
   "metadata": {},
   "outputs": [
    {
     "data": {
      "text/plain": [
       "40"
      ]
     },
     "execution_count": 35,
     "metadata": {},
     "output_type": "execute_result"
    }
   ],
   "source": [
    "# How many partitions is the DataFrame divided into?\n",
    "reviews.rdd.getNumPartitions()"
   ]
  },
  {
   "cell_type": "code",
   "execution_count": 36,
   "metadata": {},
   "outputs": [
    {
     "data": {
      "text/plain": [
       "100"
      ]
     },
     "execution_count": 36,
     "metadata": {},
     "output_type": "execute_result"
    }
   ],
   "source": [
    "# Repartitioning a DataFrame\n",
    "reviews.repartition(100).rdd.getNumPartitions()"
   ]
  },
  {
   "cell_type": "code",
   "execution_count": 53,
   "metadata": {},
   "outputs": [],
   "source": [
    "import time\n",
    "from numpy import array, mean\n",
    "\n",
    "times1 = []\n",
    "npart1 = range(60,20,-1)\n",
    "\n",
    "for i in npart1:\n",
    "    reviews = reviews.repartition(i) # Repartition the RDD\n",
    "    #print(\"Number of partitions:\", i)\n",
    "    t0 = time.time() # Start clock (call it time t0)\n",
    "    \n",
    "    # Run query\n",
    "    spark.sql('SELECT date, stars, useful FROM reviews').take(1)\n",
    "    \n",
    "    dt = time.time() - t0 # Measure time since t0\n",
    "    #print(\"time: \",dt) \n",
    "    times1 = times1 + [dt] # Add time to list for plotting purposes"
   ]
  },
  {
   "cell_type": "code",
   "execution_count": 54,
   "metadata": {
    "scrolled": true
   },
   "outputs": [
    {
     "data": {
      "image/png": "[encoded data removed]",
      "text/plain": [
       "<Figure size 432x288 with 1 Axes>"
      ]
     },
     "metadata": {
      "needs_background": "light"
     },
     "output_type": "display_data"
    }
   ],
   "source": [
    "### Plotting the results ###\n",
    "\n",
    "from matplotlib import pyplot as plt\n",
    "%matplotlib inline\n",
    "\n",
    "# Plot parameters\n",
    "plt.plot(npart1, times1, 'ko:') # Basic parameters\n",
    "plt.xlabel(\"Number of partitions\") # x-axis label\n",
    "plt.ylabel(\"Query execution time\") # y-axis label\n",
    "plt.xlim([25,55]) # x-axis limits\n",
    "#plt.ylim([12,14])\n",
    "plt.show() # Show"
   ]
  },
  {
   "cell_type": "code",
   "execution_count": 55,
   "metadata": {},
   "outputs": [],
   "source": [
    "import time\n",
    "from numpy import array\n",
    "\n",
    "times2 = []\n",
    "npart2 = range(60,20,-1)\n",
    "\n",
    "for i in npart2:\n",
    "    reviews = reviews.repartition(i) # Repartition the RDD\n",
    "    #print(\"Number of partitions:\", i)\n",
    "    t0 = time.time() # Start clock (call it time t0)\n",
    "    \n",
    "    # Run query\n",
    "    spark.sql('\\\n",
    "        SELECT udf_year(date) AS year, COUNT(*) AS review_count\\\n",
    "        FROM reviews \\\n",
    "        GROUP BY year').take(1)\n",
    "    \n",
    "    dt = time.time() - t0 # Measure time since t0\n",
    "    #print(\"time: \",dt) \n",
    "    times2 = times2 + [dt] # Add time to list for plotting purposes"
   ]
  },
  {
   "cell_type": "code",
   "execution_count": 56,
   "metadata": {},
   "outputs": [
    {
     "data": {
      "image/png": "[encoded data removed]",
      "text/plain": [
       "<Figure size 432x288 with 1 Axes>"
      ]
     },
     "metadata": {
      "needs_background": "light"
     },
     "output_type": "display_data"
    }
   ],
   "source": [
    "### Plotting the results ###\n",
    "\n",
    "from matplotlib import pyplot as plt\n",
    "%matplotlib inline\n",
    "\n",
    "# Plot parameters\n",
    "plt.plot(npart2, times2, 'ko:') \n",
    "plt.xlabel(\"Number of partitions\") \n",
    "plt.ylabel(\"Query execution time\") \n",
    "#plt.ylim([12,14])\n",
    "plt.xlim([25,55])\n",
    "plt.show()"
   ]
  }
 ],
 "metadata": {
  "kernelspec": {
   "display_name": "Python 3 (ipykernel)",
   "language": "python",
   "name": "python3"
  },
  "language_info": {
   "codemirror_mode": {
    "name": "ipython",
    "version": 3
   },
   "file_extension": ".py",
   "mimetype": "text/x-python",
   "name": "python",
   "nbconvert_exporter": "python",
   "pygments_lexer": "ipython3",
   "version": "3.10.9"
  }
 },
 "nbformat": 4,
 "nbformat_minor": 2
}
